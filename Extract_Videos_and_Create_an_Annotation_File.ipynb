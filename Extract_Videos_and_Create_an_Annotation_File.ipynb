{
  "nbformat": 4,
  "nbformat_minor": 0,
  "metadata": {
    "colab": {
      "provenance": [],
      "gpuType": "T4"
    },
    "kernelspec": {
      "name": "python3",
      "display_name": "Python 3"
    },
    "language_info": {
      "name": "python"
    },
    "accelerator": "GPU"
  },
  "cells": [
    {
      "cell_type": "code",
      "source": [
        "!unzip /content/videosfolder.zip"
      ],
      "metadata": {
        "colab": {
          "base_uri": "https://localhost:8080/"
        },
        "id": "Y7rhJ1XZEKVc",
        "outputId": "69a35b78-e45a-46e9-edf6-7e6c46d3357d"
      },
      "execution_count": 1,
      "outputs": [
        {
          "output_type": "stream",
          "name": "stdout",
          "text": [
            "Archive:  /content/videosfolder.zip\n",
            "   creating: videosfolder/\n",
            "  inflating: videosfolder/lat pulldown_1.mp4  \n",
            "  inflating: videosfolder/lat pulldown_2.mp4  \n",
            "  inflating: videosfolder/lat pulldown_39.mp4  \n",
            "  inflating: videosfolder/push-up_39.mp4  \n",
            "  inflating: videosfolder/push-up_46.mp4  \n",
            "  inflating: videosfolder/romanian deadlift_6.mp4  \n"
          ]
        }
      ]
    },
    {
      "cell_type": "code",
      "execution_count": 2,
      "metadata": {
        "colab": {
          "base_uri": "https://localhost:8080/"
        },
        "id": "7tB_YXkLDr3V",
        "outputId": "61ab6ec1-0de2-4b09-c0d8-35eb2cab5d7b"
      },
      "outputs": [
        {
          "output_type": "stream",
          "name": "stdout",
          "text": [
            "Cloning into 'video_features'...\n",
            "remote: Enumerating objects: 1462, done.\u001b[K\n",
            "remote: Counting objects: 100% (406/406), done.\u001b[K\n",
            "remote: Compressing objects: 100% (145/145), done.\u001b[K\n",
            "remote: Total 1462 (delta 313), reused 284 (delta 249), pack-reused 1056 (from 2)\u001b[K\n",
            "Receiving objects: 100% (1462/1462), 288.84 MiB | 29.73 MiB/s, done.\n",
            "Resolving deltas: 100% (800/800), done.\n",
            "Updating files: 100% (100/100), done.\n"
          ]
        }
      ],
      "source": [
        "! git clone https://github.com/v-iashin/video_features.git"
      ]
    },
    {
      "cell_type": "code",
      "source": [
        "! pip install --upgrade pip==23.3.1\n",
        "! pip install omegaconf==2.0.6"
      ],
      "metadata": {
        "colab": {
          "base_uri": "https://localhost:8080/"
        },
        "id": "4fuea7CrECmv",
        "outputId": "be937a9d-e5de-44eb-b9e8-35cc4e78ddc5"
      },
      "execution_count": 3,
      "outputs": [
        {
          "output_type": "stream",
          "name": "stdout",
          "text": [
            "Collecting pip==23.3.1\n",
            "  Downloading pip-23.3.1-py3-none-any.whl.metadata (3.5 kB)\n",
            "Downloading pip-23.3.1-py3-none-any.whl (2.1 MB)\n",
            "\u001b[2K   \u001b[90m━━━━━━━━━━━━━━━━━━━━━━━━━━━━━━━━━━━━━━━━\u001b[0m \u001b[32m2.1/2.1 MB\u001b[0m \u001b[31m2.5 MB/s\u001b[0m eta \u001b[36m0:00:00\u001b[0m\n",
            "\u001b[?25hInstalling collected packages: pip\n",
            "  Attempting uninstall: pip\n",
            "    Found existing installation: pip 24.1.2\n",
            "    Uninstalling pip-24.1.2:\n",
            "      Successfully uninstalled pip-24.1.2\n",
            "Successfully installed pip-23.3.1\n",
            "Collecting omegaconf==2.0.6\n",
            "  Downloading omegaconf-2.0.6-py3-none-any.whl.metadata (3.0 kB)\n",
            "Requirement already satisfied: PyYAML>=5.1.* in /usr/local/lib/python3.11/dist-packages (from omegaconf==2.0.6) (6.0.2)\n",
            "Requirement already satisfied: typing-extensions in /usr/local/lib/python3.11/dist-packages (from omegaconf==2.0.6) (4.13.0)\n",
            "Downloading omegaconf-2.0.6-py3-none-any.whl (36 kB)\n",
            "\u001b[33mDEPRECATION: omegaconf 2.0.6 has a non-standard dependency specifier PyYAML>=5.1.*. pip 24.0 will enforce this behaviour change. A possible replacement is to upgrade to a newer version of omegaconf or contact the author to suggest that they release a version with a conforming dependency specifiers. Discussion can be found at https://github.com/pypa/pip/issues/12063\u001b[0m\u001b[33m\n",
            "\u001b[0mInstalling collected packages: omegaconf\n",
            "Successfully installed omegaconf-2.0.6\n"
          ]
        }
      ]
    },
    {
      "cell_type": "code",
      "source": [
        "%cd video_features"
      ],
      "metadata": {
        "colab": {
          "base_uri": "https://localhost:8080/"
        },
        "id": "y-HjH1sOEEDm",
        "outputId": "c0ce7b0d-ed4d-43d7-83f7-3934ecf777b5"
      },
      "execution_count": 4,
      "outputs": [
        {
          "output_type": "stream",
          "name": "stdout",
          "text": [
            "/content/video_features\n"
          ]
        }
      ]
    },
    {
      "cell_type": "code",
      "source": [
        "from models.i3d.extract_i3d import ExtractI3D\n",
        "from utils.utils import build_cfg_path\n",
        "from omegaconf import OmegaConf\n",
        "import torch\n",
        "\n",
        "device = 'cuda' if torch.cuda.is_available() else 'cpu'\n",
        "torch.cuda.get_device_name(0)"
      ],
      "metadata": {
        "colab": {
          "base_uri": "https://localhost:8080/",
          "height": 35
        },
        "id": "TCeZPZ_pEHKc",
        "outputId": "ef98d5d9-eec7-408c-b2d0-1072a998d8ff"
      },
      "execution_count": 5,
      "outputs": [
        {
          "output_type": "execute_result",
          "data": {
            "text/plain": [
              "'Tesla T4'"
            ],
            "application/vnd.google.colaboratory.intrinsic+json": {
              "type": "string"
            }
          },
          "metadata": {},
          "execution_count": 5
        }
      ]
    },
    {
      "cell_type": "code",
      "source": [
        "import numpy as np\n",
        "import os\n",
        "import json\n",
        "\n",
        "\n",
        "def extract_features_from_folder(video_folder, save_path, feature_type='i3d', flow_type='raft'):\n",
        "    os.makedirs(save_path, exist_ok=True)\n",
        "\n",
        "    args = OmegaConf.load(build_cfg_path(feature_type))\n",
        "    args.flow_type = flow_type\n",
        "\n",
        "    extractor = ExtractI3D(args)\n",
        "\n",
        "    all_annotations = {\"database\": {}}\n",
        "\n",
        "    video_files = [f for f in os.listdir(video_folder) if f.endswith(('.mp4', '.avi', '.mov'))]\n",
        "\n",
        "    for i, video_file in enumerate(video_files, 1):\n",
        "        video_path = os.path.join(video_folder, video_file)\n",
        "\n",
        "        print(f\"Processing video {i} of {len(video_files)}: {video_file}\")\n",
        "\n",
        "        args.video_paths = [video_path]\n",
        "        feature_dict = extractor.extract(video_path)\n",
        "\n",
        "        video_name = os.path.splitext(video_file)[0]\n",
        "\n",
        "        video_save_path = os.path.join(save_path, video_name)\n",
        "        os.makedirs(video_save_path, exist_ok=True)\n",
        "\n",
        "        rgb_features = None\n",
        "        flow_features = None\n",
        "\n",
        "        timestamps_ms = None\n",
        "\n",
        "        for key, value in feature_dict.items():\n",
        "            if key == 'timestamps_ms':\n",
        "                timestamps_ms = value\n",
        "\n",
        "            if key in [\"rgb\", \"flow\"]:\n",
        "                output_filename = f\"{key}_features.npy\"\n",
        "                full_output_path = os.path.join(video_save_path, output_filename)\n",
        "                np.save(full_output_path, value)\n",
        "\n",
        "                if key == \"rgb\":\n",
        "                    rgb_features = value\n",
        "                elif key == \"flow\":\n",
        "                    flow_features = value\n",
        "\n",
        "        if rgb_features is not None and flow_features is not None:\n",
        "            combined_features = np.hstack((flow_features, rgb_features))\n",
        "\n",
        "            if combined_features.size == 0:\n",
        "                continue\n",
        "\n",
        "            combined_path = os.path.join('/content/extract_videos', f\"{video_name}.npy\")\n",
        "            np.save(combined_path, combined_features)\n",
        "\n",
        "            num_segments = feature_dict.get(\"rgb\", feature_dict.get(\"flow\", None)).shape[0]\n",
        "\n",
        "            action = video_name.split('_')[0]\n",
        "\n",
        "            fps = 30.0\n",
        "            if timestamps_ms is not None and len(timestamps_ms) > 0:\n",
        "                last_timestamp_ms = timestamps_ms[-1]\n",
        "                duration = last_timestamp_ms / 1000\n",
        "            else:\n",
        "                duration = 0\n",
        "\n",
        "            annotation = create_annotation_json(\n",
        "                video_file,\n",
        "                duration,\n",
        "                fps,\n",
        "                [{\"label\": action,\n",
        "                  \"segment\": [0.0, duration],\n",
        "                  \"segment(frames)\": [0, num_segments],\n",
        "                  \"label_id\": get_label_id(action)}]\n",
        "            )\n",
        "\n",
        "            all_annotations[\"database\"][video_name] = annotation\n",
        "\n",
        "    annotation_path = os.path.join('/content/extract_videos', 'annotations.json')\n",
        "    with open(annotation_path, 'w') as f:\n",
        "        json.dump(all_annotations, f, indent=4)\n",
        "\n",
        "    return all_annotations\n",
        "\n",
        "\n",
        "def create_annotation_json(video_file, duration, fps, action_segments):\n",
        "    annotation = {\n",
        "        \"subset\": \"training\",\n",
        "        \"duration\": float(duration),\n",
        "        \"fps\": float(fps),\n",
        "        \"annotations\": action_segments\n",
        "    }\n",
        "    return annotation\n",
        "\n",
        "\n",
        "def get_label_id(action_name):\n",
        "    action_to_id = {\n",
        "        \"cricket\": 1,\n",
        "        \"basketball\": 2,\n",
        "        \"football\": 3,\n",
        "        \"barbell biceps curl\": 100,\n",
        "        \"bench press\" : 101,\n",
        "        \"chest fly machine\": 102,\n",
        "        \"deadlift\": 103,\n",
        "        \"decline bench press\": 104,\n",
        "        \"hammer curl\": 105,\n",
        "        \"hip thrust\": 106,\n",
        "        \"incline bench press\": 107,\n",
        "        \"lat pulldown\": 108,\n",
        "        \"lateral raise\": 109,\n",
        "        \"leg extension\": 110,\n",
        "        \"leg raises\": 111,\n",
        "        \"pull Up\": 112,\n",
        "        \"push-up\": 113,\n",
        "        \"romanian deadlift\": 114,\n",
        "        \"russian twist\": 115,\n",
        "        \"shoulder press\": 116,\n",
        "        \"squat\": 117,\n",
        "        \"t bar row\": 118,\n",
        "        \"tricep dips\": 119,\n",
        "        \"tricep Pushdown\": 120,\n",
        "    }\n",
        "\n",
        "    return action_to_id.get(action_name.lower(), 0)\n",
        "\n",
        "\n",
        "if __name__ == \"__main__\":\n",
        "    video_folder = '/content/videosfolder'\n",
        "    save_path = '/content/features_and_annotations'\n",
        "\n",
        "    annotations = extract_features_from_folder(video_folder, save_path)\n",
        "\n",
        "    print(\"Feature extraction and annotation complete!\")\n"
      ],
      "metadata": {
        "colab": {
          "base_uri": "https://localhost:8080/"
        },
        "id": "AHRl0mwvELSL",
        "outputId": "e50fc90a-23ac-4a52-c005-1342827b94b2"
      },
      "execution_count": 7,
      "outputs": [
        {
          "output_type": "stream",
          "name": "stdout",
          "text": [
            "Processing video 1 of 6: push-up_46.mp4\n",
            "Processing video 2 of 6: lat pulldown_2.mp4\n",
            "Processing video 3 of 6: lat pulldown_1.mp4\n",
            "Processing video 4 of 6: push-up_39.mp4\n",
            "Processing video 5 of 6: lat pulldown_39.mp4\n",
            "Processing video 6 of 6: romanian deadlift_6.mp4\n",
            "Feature extraction and annotation complete!\n"
          ]
        }
      ]
    },
    {
      "cell_type": "code",
      "source": [
        "import shutil\n",
        "\n",
        "folder_path = '/content/extract_videos'\n",
        "zip_file_name = '/content/extract videos.zip'\n",
        "\n",
        "\n",
        "shutil.make_archive(zip_file_name.replace('.zip', ''), 'zip', folder_path)"
      ],
      "metadata": {
        "colab": {
          "base_uri": "https://localhost:8080/",
          "height": 35
        },
        "id": "85BuhIpvEQnj",
        "outputId": "34c28ca5-d059-4e0a-a38e-21a9ddb80340"
      },
      "execution_count": 8,
      "outputs": [
        {
          "output_type": "execute_result",
          "data": {
            "text/plain": [
              "'/content/extract videos.zip'"
            ],
            "application/vnd.google.colaboratory.intrinsic+json": {
              "type": "string"
            }
          },
          "metadata": {},
          "execution_count": 8
        }
      ]
    }
  ]
}